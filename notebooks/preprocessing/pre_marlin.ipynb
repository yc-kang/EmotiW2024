{
 "cells": [
  {
   "cell_type": "markdown",
   "id": "1099afb3-4ea1-426a-b44c-f9dee71ee9ad",
   "metadata": {},
   "source": [
    "To-do:\n",
    "- Add generate dir, if not-exist"
   ]
  },
  {
   "cell_type": "markdown",
   "id": "d7b0051c-5dab-4753-8346-3040755b2e74",
   "metadata": {},
   "source": [
    "### Marlin Preprocessing\n",
    "\n",
    "The code reads video files, processes them using a Marlin model to extract features, and saves these features as PyTorch (.pt) files while maintaining logs of processed files and errors. \\\n",
    "\\\n",
    "Currently, model cant be downloaded, so have to download it online"
   ]
  },
  {
   "cell_type": "markdown",
   "id": "08e342c0-a6e3-4d21-babb-68afcfb726bd",
   "metadata": {},
   "source": [
    "### Input and Output\n",
    "Input files:\n",
    "- Videos: in `marlin_preprocessing/chunks` folder, with `mp4` videos\n",
    "- Model: in `marlin_preprocessing/marlin_models` folder, with `pt` format [[Marlin models download here](https://github.com/ControlNet/MARLIN/releases)]\n",
    "\n",
    "Output files:\n",
    "- Marlin feature files: `pt` files, in `marlin_preprocessing/marlin_features_large`"
   ]
  },
  {
   "cell_type": "code",
   "execution_count": null,
   "id": "b236607c-ea15-487b-b294-bd9c5ddd8745",
   "metadata": {},
   "outputs": [],
   "source": [
    "from marlin_pytorch import Marlin\n",
    "import torch.multiprocessing as mp\n",
    "\n",
    "from tqdm import tqdm\n",
    "import torch\n",
    "import os\n",
    "import sys\n",
    "import pandas as pd\n",
    "\n",
    "# base path directory\n",
    "base_path = 'marlin_preprocessing'\n",
    "\n",
    "# can pick 'small', 'base', 'large'\n",
    "marlin_feature_type = 'large'"
   ]
  },
  {
   "cell_type": "code",
   "execution_count": null,
   "id": "c46f24e3-ef65-403d-9d55-915d871a9175",
   "metadata": {},
   "outputs": [],
   "source": [
    "def read_file(path):\n",
    "    try:\n",
    "        with open(path) as f:\n",
    "            dat = [i.strip('\\n') for i in f.readlines()]\n",
    "    except:\n",
    "        return []\n",
    "    return dat\n",
    "\n",
    "def log(path, content):\n",
    "    with open(path, 'a') as f:\n",
    "        f.write(content)\n",
    "        f.write('\\n')\n",
    "        \n",
    "def load_model(feature_type):\n",
    "    # model = Marlin.from_file(f\"marlin_vit_{feature_type}_ytf\", f\"marlin_models/marlin_vit_{feature_type}_ytf.encoder.pt\")\n",
    "    # download model locally not working, use this instead (temporarily)\n",
    "    model = Marlin.from_online(f\"marlin_vit_{feature_type}_ytf\")\n",
    "    return model\n",
    "\n",
    "def main(marlin_feature_type, rank):\n",
    "    model = load_model(marlin_feature_type)\n",
    "    model = model.cuda()\n",
    "\n",
    "    _todo_ = read_file(f'todo{rank}.txt')\n",
    "    errors = []\n",
    "    processed = read_file(f'{marlin_feature_type}_processed_{rank}.txt')\n",
    "        \n",
    "    todo = set(['chunks/' + f for f in _todo_]) - set(processed)\n",
    "    proc = os.listdir(f'marlin_features_{marlin_feature_type}/')\n",
    "    todo = list(set(todo) - set(['chunks/' + f.strip('.pt') for f in proc]))\n",
    "\n",
    "    for vname in tqdm(todo):\n",
    "        try:\n",
    "#             print (vname)\n",
    "            \n",
    "            path = os.path.join(base_path, vname)\n",
    "            print (path)\n",
    "            features = model.extract_video(path, crop_face=True)\n",
    "            # saving pt file\n",
    "            \n",
    "            torch.save(features, f\"marlin_features_{marlin_feature_type}/{vname.split('/')[-1]}.pt\")\n",
    "            # logging\n",
    "            log(f'{marlin_feature_type}_processed_{rank}.txt', vname)\n",
    "\n",
    "        except Exception as e:\n",
    "            \n",
    "#           logging errors\n",
    "            print (e)\n",
    "            log(f'{marlin_feature_type}_errors_{rank}.txt', vname)\n",
    "            \n",
    "if __name__ == '__main__':\n",
    "    args = sys.argv\n",
    "    main('large', 'ESC')"
   ]
  }
 ],
 "metadata": {
  "kernelspec": {
   "display_name": "Python 3 (ipykernel)",
   "language": "python",
   "name": "python3"
  },
  "language_info": {
   "codemirror_mode": {
    "name": "ipython",
    "version": 3
   },
   "file_extension": ".py",
   "mimetype": "text/x-python",
   "name": "python",
   "nbconvert_exporter": "python",
   "pygments_lexer": "ipython3",
   "version": "3.9.11"
  }
 },
 "nbformat": 4,
 "nbformat_minor": 5
}
