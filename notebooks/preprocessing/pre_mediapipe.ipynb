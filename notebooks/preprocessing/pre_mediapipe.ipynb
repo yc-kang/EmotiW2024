{
 "cells": [
  {
   "cell_type": "markdown",
   "id": "38e12356-52d9-4955-860e-c12daa304228",
   "metadata": {},
   "source": [
    "### Mediapipe Preprocessing\n",
    "\n",
    "Purpose: Process video landmarkings (able to process in batch)\n",
    "\n",
    "Before running:\n",
    "- Make sure mp4 files are in the `video_path`\n",
    "- Make sure `processed_landmarks.txt` are empty first\n",
    "\n",
    "Note:\n",
    "- It's gonna take a while to load a large number of videos\n",
    "- Current runtime: 300 videos per hour"
   ]
  },
  {
   "cell_type": "markdown",
   "id": "b1c3f200-7391-4595-810d-eaf7c6918cd9",
   "metadata": {},
   "source": [
    "### Input and Output\n",
    "\n",
    "Input files:\n",
    "- `mp4` files, in `landmarks_mediapipe/inputs/`\n",
    "\n",
    "Output files:\n",
    "- `csv` files, in `landmarks_mediapipe/outputs/`\n",
    "- `txt` files, in `landmarks_mediapipe`"
   ]
  },
  {
   "cell_type": "markdown",
   "id": "6b87ba79-4afe-4081-92ec-2bcb3fb4dd46",
   "metadata": {},
   "source": [
    "Known errors:\n",
    "- UserWarning: SymbolDatabase.GetPrototype() is deprecated. Please use message_factory.GetMessageClass() instead. SymbolDatabase.GetPrototype() will be removed soon.\n",
    "- 'NoneType' object has no attribute 'ListFields"
   ]
  },
  {
   "cell_type": "code",
   "execution_count": 9,
   "id": "7750c397-e0d1-46c4-bf3e-6d7cab2ade6d",
   "metadata": {},
   "outputs": [],
   "source": [
    "import cv2\n",
    "import mediapipe as mp\n",
    "import pandas as pd\n",
    "import os\n",
    "import glob\n",
    "from tqdm import tqdm\n",
    "\n",
    "mp_drawing = mp.solutions.drawing_utils\n",
    "mp_drawing_styles = mp.solutions.drawing_styles\n",
    "mp_pose = mp.solutions.pose\n",
    "\n",
    "# Input mp4 path\n",
    "video_path = 'landmarks_mediapipe/inputs/*.mp4'\n",
    "\n",
    "# Output csv path\n",
    "ROOT = 'landmarks_mediapipe/outputs/'\n",
    "\n",
    "# txt files path\n",
    "processed_file = 'landmarks_mediapipe/processed_landmarks.txt'\n",
    "error_file = 'landmarks_mediapipe/errors_landmarks.txt'"
   ]
  },
  {
   "cell_type": "code",
   "execution_count": null,
   "id": "35f8e06d-14e1-4f01-892a-e210a9135a7e",
   "metadata": {},
   "outputs": [
    {
     "name": "stderr",
     "output_type": "stream",
     "text": [
      "  0%|                                                                                         | 0/1177 [00:00<?, ?it/s]"
     ]
    },
    {
     "name": "stdout",
     "output_type": "stream",
     "text": [
      "File name: landmarks_mediapipe/inputs\\subject_19_ah2mcee837_vid_2_8.mp4\n",
      "# Frames: 300\n"
     ]
    },
    {
     "name": "stderr",
     "output_type": "stream",
     "text": [
      "C:\\Python39\\lib\\site-packages\\google\\protobuf\\symbol_database.py:55: UserWarning: SymbolDatabase.GetPrototype() is deprecated. Please use message_factory.GetMessageClass() instead. SymbolDatabase.GetPrototype() will be removed soon.\n",
      "  warnings.warn('SymbolDatabase.GetPrototype() is deprecated. Please '\n",
      "  0%|                                                                               | 1/1177 [00:15<5:10:32, 15.84s/it]"
     ]
    },
    {
     "name": "stdout",
     "output_type": "stream",
     "text": [
      "Saving to landmarks_mediapipe/outputs/subject_19_ah2mcee837_vid_2_8.csv ...\n",
      "File name: landmarks_mediapipe/inputs\\subject_27_7ynmerobzp_vid_2_3.mp4\n",
      "# Frames: 300\n"
     ]
    },
    {
     "name": "stderr",
     "output_type": "stream",
     "text": [
      "C:\\Python39\\lib\\site-packages\\google\\protobuf\\symbol_database.py:55: UserWarning: SymbolDatabase.GetPrototype() is deprecated. Please use message_factory.GetMessageClass() instead. SymbolDatabase.GetPrototype() will be removed soon.\n",
      "  warnings.warn('SymbolDatabase.GetPrototype() is deprecated. Please '\n",
      "  0%|▏                                                                              | 2/1177 [00:33<5:32:40, 16.99s/it]"
     ]
    },
    {
     "name": "stdout",
     "output_type": "stream",
     "text": [
      "Saving to landmarks_mediapipe/outputs/subject_27_7ynmerobzp_vid_2_3.csv ...\n",
      "File name: landmarks_mediapipe/inputs\\subject_15_randomdradnfzte6_vid_0_26.mp4\n",
      "# Frames: 300\n"
     ]
    },
    {
     "name": "stderr",
     "output_type": "stream",
     "text": [
      "C:\\Python39\\lib\\site-packages\\google\\protobuf\\symbol_database.py:55: UserWarning: SymbolDatabase.GetPrototype() is deprecated. Please use message_factory.GetMessageClass() instead. SymbolDatabase.GetPrototype() will be removed soon.\n",
      "  warnings.warn('SymbolDatabase.GetPrototype() is deprecated. Please '\n",
      "  0%|▏                                                                              | 3/1177 [00:54<6:06:44, 18.74s/it]"
     ]
    },
    {
     "name": "stdout",
     "output_type": "stream",
     "text": [
      "Saving to landmarks_mediapipe/outputs/subject_15_randomdradnfzte6_vid_0_26.csv ...\n",
      "File name: landmarks_mediapipe/inputs\\subject_16_znxhms0ar6_vid_2_25.mp4\n",
      "# Frames: 300\n"
     ]
    },
    {
     "name": "stderr",
     "output_type": "stream",
     "text": [
      "C:\\Python39\\lib\\site-packages\\google\\protobuf\\symbol_database.py:55: UserWarning: SymbolDatabase.GetPrototype() is deprecated. Please use message_factory.GetMessageClass() instead. SymbolDatabase.GetPrototype() will be removed soon.\n",
      "  warnings.warn('SymbolDatabase.GetPrototype() is deprecated. Please '\n",
      "  0%|▎                                                                              | 4/1177 [01:16<6:34:45, 20.19s/it]"
     ]
    },
    {
     "name": "stdout",
     "output_type": "stream",
     "text": [
      "Saving to landmarks_mediapipe/outputs/subject_16_znxhms0ar6_vid_2_25.csv ...\n",
      "File name: landmarks_mediapipe/inputs\\subject_27_7ynmerobzp_vid_0_16.mp4\n",
      "# Frames: 300\n"
     ]
    },
    {
     "name": "stderr",
     "output_type": "stream",
     "text": [
      "C:\\Python39\\lib\\site-packages\\google\\protobuf\\symbol_database.py:55: UserWarning: SymbolDatabase.GetPrototype() is deprecated. Please use message_factory.GetMessageClass() instead. SymbolDatabase.GetPrototype() will be removed soon.\n",
      "  warnings.warn('SymbolDatabase.GetPrototype() is deprecated. Please '\n",
      "  0%|▎                                                                              | 5/1177 [01:38<6:47:49, 20.88s/it]"
     ]
    },
    {
     "name": "stdout",
     "output_type": "stream",
     "text": [
      "Saving to landmarks_mediapipe/outputs/subject_27_7ynmerobzp_vid_0_16.csv ...\n",
      "File name: landmarks_mediapipe/inputs\\subject_29_l43bqp43lo_vid_2_30.mp4\n",
      "# Frames: 300\n"
     ]
    },
    {
     "name": "stderr",
     "output_type": "stream",
     "text": [
      "C:\\Python39\\lib\\site-packages\\google\\protobuf\\symbol_database.py:55: UserWarning: SymbolDatabase.GetPrototype() is deprecated. Please use message_factory.GetMessageClass() instead. SymbolDatabase.GetPrototype() will be removed soon.\n",
      "  warnings.warn('SymbolDatabase.GetPrototype() is deprecated. Please '\n",
      "  1%|▍                                                                             | 6/1177 [03:39<17:51:15, 54.89s/it]"
     ]
    },
    {
     "name": "stdout",
     "output_type": "stream",
     "text": [
      "Saving to landmarks_mediapipe/outputs/subject_29_l43bqp43lo_vid_2_30.csv ...\n",
      "File name: landmarks_mediapipe/inputs\\subject_17_ddvyjnjfad_vid_0_18.mp4\n",
      "# Frames: 300\n"
     ]
    },
    {
     "name": "stderr",
     "output_type": "stream",
     "text": [
      "C:\\Python39\\lib\\site-packages\\google\\protobuf\\symbol_database.py:55: UserWarning: SymbolDatabase.GetPrototype() is deprecated. Please use message_factory.GetMessageClass() instead. SymbolDatabase.GetPrototype() will be removed soon.\n",
      "  warnings.warn('SymbolDatabase.GetPrototype() is deprecated. Please '\n",
      "  1%|▍                                                                             | 7/1177 [03:52<13:23:43, 41.22s/it]"
     ]
    },
    {
     "name": "stdout",
     "output_type": "stream",
     "text": [
      "Saving to landmarks_mediapipe/outputs/subject_17_ddvyjnjfad_vid_0_18.csv ...\n",
      "File name: landmarks_mediapipe/inputs\\subject_23_randombhxelhr8yy_vid_1_22.mp4\n",
      "# Frames: 300\n"
     ]
    },
    {
     "name": "stderr",
     "output_type": "stream",
     "text": [
      "C:\\Python39\\lib\\site-packages\\google\\protobuf\\symbol_database.py:55: UserWarning: SymbolDatabase.GetPrototype() is deprecated. Please use message_factory.GetMessageClass() instead. SymbolDatabase.GetPrototype() will be removed soon.\n",
      "  warnings.warn('SymbolDatabase.GetPrototype() is deprecated. Please '\n",
      "  1%|▌                                                                             | 8/1177 [05:25<18:38:28, 57.41s/it]"
     ]
    },
    {
     "name": "stdout",
     "output_type": "stream",
     "text": [
      "Saving to landmarks_mediapipe/outputs/subject_23_randombhxelhr8yy_vid_1_22.csv ...\n",
      "File name: landmarks_mediapipe/inputs\\subject_25_9yhsja3clq_vid_1_24.mp4\n",
      "# Frames: 300\n"
     ]
    },
    {
     "name": "stderr",
     "output_type": "stream",
     "text": [
      "C:\\Python39\\lib\\site-packages\\google\\protobuf\\symbol_database.py:55: UserWarning: SymbolDatabase.GetPrototype() is deprecated. Please use message_factory.GetMessageClass() instead. SymbolDatabase.GetPrototype() will be removed soon.\n",
      "  warnings.warn('SymbolDatabase.GetPrototype() is deprecated. Please '\n",
      "  1%|▌                                                                             | 9/1177 [05:39<14:17:13, 44.04s/it]"
     ]
    },
    {
     "name": "stdout",
     "output_type": "stream",
     "text": [
      "Saving to landmarks_mediapipe/outputs/subject_25_9yhsja3clq_vid_1_24.csv ...\n",
      "File name: landmarks_mediapipe/inputs\\subject_24_35aqq1f9lo_vid_1_29.mp4\n",
      "# Frames: 300\n"
     ]
    },
    {
     "name": "stderr",
     "output_type": "stream",
     "text": [
      "C:\\Python39\\lib\\site-packages\\google\\protobuf\\symbol_database.py:55: UserWarning: SymbolDatabase.GetPrototype() is deprecated. Please use message_factory.GetMessageClass() instead. SymbolDatabase.GetPrototype() will be removed soon.\n",
      "  warnings.warn('SymbolDatabase.GetPrototype() is deprecated. Please '\n",
      "  1%|▋                                                                            | 10/1177 [05:53<11:13:22, 34.62s/it]"
     ]
    },
    {
     "name": "stdout",
     "output_type": "stream",
     "text": [
      "Saving to landmarks_mediapipe/outputs/subject_24_35aqq1f9lo_vid_1_29.csv ...\n",
      "File name: landmarks_mediapipe/inputs\\subject_16_znxhms0ar6_vid_1_14.mp4\n",
      "# Frames: 300\n"
     ]
    },
    {
     "name": "stderr",
     "output_type": "stream",
     "text": [
      "C:\\Python39\\lib\\site-packages\\google\\protobuf\\symbol_database.py:55: UserWarning: SymbolDatabase.GetPrototype() is deprecated. Please use message_factory.GetMessageClass() instead. SymbolDatabase.GetPrototype() will be removed soon.\n",
      "  warnings.warn('SymbolDatabase.GetPrototype() is deprecated. Please '\n",
      "  1%|▋                                                                             | 11/1177 [06:10<9:29:33, 29.31s/it]"
     ]
    },
    {
     "name": "stdout",
     "output_type": "stream",
     "text": [
      "Saving to landmarks_mediapipe/outputs/subject_16_znxhms0ar6_vid_1_14.csv ...\n",
      "File name: landmarks_mediapipe/inputs\\subject_16_znxhms0ar6_vid_2_12.mp4\n",
      "# Frames: 300\n"
     ]
    },
    {
     "name": "stderr",
     "output_type": "stream",
     "text": [
      "C:\\Python39\\lib\\site-packages\\google\\protobuf\\symbol_database.py:55: UserWarning: SymbolDatabase.GetPrototype() is deprecated. Please use message_factory.GetMessageClass() instead. SymbolDatabase.GetPrototype() will be removed soon.\n",
      "  warnings.warn('SymbolDatabase.GetPrototype() is deprecated. Please '\n",
      "  1%|▊                                                                             | 12/1177 [06:28<8:24:18, 25.97s/it]"
     ]
    },
    {
     "name": "stdout",
     "output_type": "stream",
     "text": [
      "Saving to landmarks_mediapipe/outputs/subject_16_znxhms0ar6_vid_2_12.csv ...\n",
      "File name: landmarks_mediapipe/inputs\\subject_21_3umwtqlolt_vid_2_17.mp4\n",
      "# Frames: 100\n"
     ]
    },
    {
     "name": "stderr",
     "output_type": "stream",
     "text": [
      "C:\\Python39\\lib\\site-packages\\google\\protobuf\\symbol_database.py:55: UserWarning: SymbolDatabase.GetPrototype() is deprecated. Please use message_factory.GetMessageClass() instead. SymbolDatabase.GetPrototype() will be removed soon.\n",
      "  warnings.warn('SymbolDatabase.GetPrototype() is deprecated. Please '\n",
      "  1%|▊                                                                             | 13/1177 [06:36<6:34:40, 20.34s/it]"
     ]
    },
    {
     "name": "stdout",
     "output_type": "stream",
     "text": [
      "Saving to landmarks_mediapipe/outputs/subject_21_3umwtqlolt_vid_2_17.csv ...\n",
      "File name: landmarks_mediapipe/inputs\\subject_16_znxhms0ar6_vid_1_4.mp4\n",
      "# Frames: 300\n"
     ]
    },
    {
     "name": "stderr",
     "output_type": "stream",
     "text": [
      "C:\\Python39\\lib\\site-packages\\google\\protobuf\\symbol_database.py:55: UserWarning: SymbolDatabase.GetPrototype() is deprecated. Please use message_factory.GetMessageClass() instead. SymbolDatabase.GetPrototype() will be removed soon.\n",
      "  warnings.warn('SymbolDatabase.GetPrototype() is deprecated. Please '\n",
      "  1%|▉                                                                             | 14/1177 [06:58<6:42:59, 20.79s/it]"
     ]
    },
    {
     "name": "stdout",
     "output_type": "stream",
     "text": [
      "Saving to landmarks_mediapipe/outputs/subject_16_znxhms0ar6_vid_1_4.csv ...\n",
      "File name: landmarks_mediapipe/inputs\\subject_17_ddvyjnjfad_vid_1_28.mp4\n",
      "# Frames: 300\n"
     ]
    },
    {
     "name": "stderr",
     "output_type": "stream",
     "text": [
      "C:\\Python39\\lib\\site-packages\\google\\protobuf\\symbol_database.py:55: UserWarning: SymbolDatabase.GetPrototype() is deprecated. Please use message_factory.GetMessageClass() instead. SymbolDatabase.GetPrototype() will be removed soon.\n",
      "  warnings.warn('SymbolDatabase.GetPrototype() is deprecated. Please '\n",
      "  1%|▉                                                                             | 15/1177 [07:20<6:49:52, 21.16s/it]"
     ]
    },
    {
     "name": "stdout",
     "output_type": "stream",
     "text": [
      "Saving to landmarks_mediapipe/outputs/subject_17_ddvyjnjfad_vid_1_28.csv ...\n",
      "File name: landmarks_mediapipe/inputs\\subject_15_randomdradnfzte6_vid_0_31.mp4\n",
      "# Frames: 166\n"
     ]
    },
    {
     "name": "stderr",
     "output_type": "stream",
     "text": [
      "C:\\Python39\\lib\\site-packages\\google\\protobuf\\symbol_database.py:55: UserWarning: SymbolDatabase.GetPrototype() is deprecated. Please use message_factory.GetMessageClass() instead. SymbolDatabase.GetPrototype() will be removed soon.\n",
      "  warnings.warn('SymbolDatabase.GetPrototype() is deprecated. Please '\n",
      "  1%|█                                                                             | 16/1177 [07:33<6:04:40, 18.85s/it]"
     ]
    },
    {
     "name": "stdout",
     "output_type": "stream",
     "text": [
      "Saving to landmarks_mediapipe/outputs/subject_15_randomdradnfzte6_vid_0_31.csv ...\n",
      "File name: landmarks_mediapipe/inputs\\subject_27_7ynmerobzp_vid_0_18.mp4\n",
      "# Frames: 300\n"
     ]
    },
    {
     "name": "stderr",
     "output_type": "stream",
     "text": [
      "C:\\Python39\\lib\\site-packages\\google\\protobuf\\symbol_database.py:55: UserWarning: SymbolDatabase.GetPrototype() is deprecated. Please use message_factory.GetMessageClass() instead. SymbolDatabase.GetPrototype() will be removed soon.\n",
      "  warnings.warn('SymbolDatabase.GetPrototype() is deprecated. Please '\n",
      "  1%|█▏                                                                            | 17/1177 [07:55<6:23:30, 19.84s/it]"
     ]
    },
    {
     "name": "stdout",
     "output_type": "stream",
     "text": [
      "Saving to landmarks_mediapipe/outputs/subject_27_7ynmerobzp_vid_0_18.csv ...\n",
      "File name: landmarks_mediapipe/inputs\\subject_24_35aqq1f9lo_vid_1_13.mp4\n",
      "# Frames: 300\n"
     ]
    },
    {
     "name": "stderr",
     "output_type": "stream",
     "text": [
      "C:\\Python39\\lib\\site-packages\\google\\protobuf\\symbol_database.py:55: UserWarning: SymbolDatabase.GetPrototype() is deprecated. Please use message_factory.GetMessageClass() instead. SymbolDatabase.GetPrototype() will be removed soon.\n",
      "  warnings.warn('SymbolDatabase.GetPrototype() is deprecated. Please '\n",
      "  2%|█▏                                                                            | 18/1177 [08:14<6:15:38, 19.45s/it]"
     ]
    },
    {
     "name": "stdout",
     "output_type": "stream",
     "text": [
      "Saving to landmarks_mediapipe/outputs/subject_24_35aqq1f9lo_vid_1_13.csv ...\n",
      "File name: landmarks_mediapipe/inputs\\subject_17_ddvyjnjfad_vid_0_21.mp4\n",
      "# Frames: 300\n"
     ]
    },
    {
     "name": "stderr",
     "output_type": "stream",
     "text": [
      "C:\\Python39\\lib\\site-packages\\google\\protobuf\\symbol_database.py:55: UserWarning: SymbolDatabase.GetPrototype() is deprecated. Please use message_factory.GetMessageClass() instead. SymbolDatabase.GetPrototype() will be removed soon.\n",
      "  warnings.warn('SymbolDatabase.GetPrototype() is deprecated. Please '\n",
      "  2%|█▎                                                                            | 19/1177 [08:31<6:01:47, 18.75s/it]"
     ]
    },
    {
     "name": "stdout",
     "output_type": "stream",
     "text": [
      "Saving to landmarks_mediapipe/outputs/subject_17_ddvyjnjfad_vid_0_21.csv ...\n",
      "File name: landmarks_mediapipe/inputs\\subject_19_ah2mcee837_vid_1_23.mp4\n",
      "# Frames: 300\n"
     ]
    },
    {
     "name": "stderr",
     "output_type": "stream",
     "text": [
      "C:\\Python39\\lib\\site-packages\\google\\protobuf\\symbol_database.py:55: UserWarning: SymbolDatabase.GetPrototype() is deprecated. Please use message_factory.GetMessageClass() instead. SymbolDatabase.GetPrototype() will be removed soon.\n",
      "  warnings.warn('SymbolDatabase.GetPrototype() is deprecated. Please '\n",
      "  2%|█▎                                                                            | 20/1177 [08:51<6:09:00, 19.14s/it]"
     ]
    },
    {
     "name": "stdout",
     "output_type": "stream",
     "text": [
      "Saving to landmarks_mediapipe/outputs/subject_19_ah2mcee837_vid_1_23.csv ...\n",
      "File name: landmarks_mediapipe/inputs\\subject_17_ddvyjnjfad_vid_0_26.mp4\n",
      "# Frames: 300\n"
     ]
    },
    {
     "name": "stderr",
     "output_type": "stream",
     "text": [
      "C:\\Python39\\lib\\site-packages\\google\\protobuf\\symbol_database.py:55: UserWarning: SymbolDatabase.GetPrototype() is deprecated. Please use message_factory.GetMessageClass() instead. SymbolDatabase.GetPrototype() will be removed soon.\n",
      "  warnings.warn('SymbolDatabase.GetPrototype() is deprecated. Please '\n",
      "  2%|█▍                                                                            | 21/1177 [09:17<6:49:09, 21.24s/it]"
     ]
    },
    {
     "name": "stdout",
     "output_type": "stream",
     "text": [
      "Saving to landmarks_mediapipe/outputs/subject_17_ddvyjnjfad_vid_0_26.csv ...\n",
      "File name: landmarks_mediapipe/inputs\\subject_17_ddvyjnjfad_vid_1_20.mp4\n",
      "# Frames: 300\n"
     ]
    },
    {
     "name": "stderr",
     "output_type": "stream",
     "text": [
      "C:\\Python39\\lib\\site-packages\\google\\protobuf\\symbol_database.py:55: UserWarning: SymbolDatabase.GetPrototype() is deprecated. Please use message_factory.GetMessageClass() instead. SymbolDatabase.GetPrototype() will be removed soon.\n",
      "  warnings.warn('SymbolDatabase.GetPrototype() is deprecated. Please '\n",
      "  2%|█▍                                                                            | 22/1177 [09:42<7:13:16, 22.51s/it]"
     ]
    },
    {
     "name": "stdout",
     "output_type": "stream",
     "text": [
      "Saving to landmarks_mediapipe/outputs/subject_17_ddvyjnjfad_vid_1_20.csv ...\n",
      "File name: landmarks_mediapipe/inputs\\subject_30_7ytx2foxy2_vid_0_1.mp4\n",
      "# Frames: 150\n"
     ]
    },
    {
     "name": "stderr",
     "output_type": "stream",
     "text": [
      "C:\\Python39\\lib\\site-packages\\google\\protobuf\\symbol_database.py:55: UserWarning: SymbolDatabase.GetPrototype() is deprecated. Please use message_factory.GetMessageClass() instead. SymbolDatabase.GetPrototype() will be removed soon.\n",
      "  warnings.warn('SymbolDatabase.GetPrototype() is deprecated. Please '\n",
      "  2%|█▌                                                                            | 23/1177 [09:54<6:08:01, 19.13s/it]"
     ]
    },
    {
     "name": "stdout",
     "output_type": "stream",
     "text": [
      "'NoneType' object has no attribute 'ListFields'\n",
      "File name: landmarks_mediapipe/inputs\\subject_21_3umwtqlolt_vid_2_5.mp4\n",
      "# Frames: 100\n"
     ]
    },
    {
     "name": "stderr",
     "output_type": "stream",
     "text": [
      "  2%|█▌                                                                            | 24/1177 [10:03<5:10:36, 16.16s/it]"
     ]
    },
    {
     "name": "stdout",
     "output_type": "stream",
     "text": [
      "Saving to landmarks_mediapipe/outputs/subject_21_3umwtqlolt_vid_2_5.csv ...\n",
      "File name: landmarks_mediapipe/inputs\\subject_22_37kn4gou0j_vid_0_30.mp4\n",
      "# Frames: 300\n"
     ]
    },
    {
     "name": "stderr",
     "output_type": "stream",
     "text": [
      "C:\\Python39\\lib\\site-packages\\google\\protobuf\\symbol_database.py:55: UserWarning: SymbolDatabase.GetPrototype() is deprecated. Please use message_factory.GetMessageClass() instead. SymbolDatabase.GetPrototype() will be removed soon.\n",
      "  warnings.warn('SymbolDatabase.GetPrototype() is deprecated. Please '\n",
      "  2%|█▋                                                                            | 25/1177 [10:28<6:03:36, 18.94s/it]"
     ]
    },
    {
     "name": "stdout",
     "output_type": "stream",
     "text": [
      "Saving to landmarks_mediapipe/outputs/subject_22_37kn4gou0j_vid_0_30.csv ...\n",
      "File name: landmarks_mediapipe/inputs\\subject_15_randomdradnfzte6_vid_2_2.mp4\n",
      "# Frames: 300\n"
     ]
    },
    {
     "name": "stderr",
     "output_type": "stream",
     "text": [
      "C:\\Python39\\lib\\site-packages\\google\\protobuf\\symbol_database.py:55: UserWarning: SymbolDatabase.GetPrototype() is deprecated. Please use message_factory.GetMessageClass() instead. SymbolDatabase.GetPrototype() will be removed soon.\n",
      "  warnings.warn('SymbolDatabase.GetPrototype() is deprecated. Please '\n",
      "  2%|█▋                                                                            | 26/1177 [10:53<6:38:13, 20.76s/it]"
     ]
    },
    {
     "name": "stdout",
     "output_type": "stream",
     "text": [
      "Saving to landmarks_mediapipe/outputs/subject_15_randomdradnfzte6_vid_2_2.csv ...\n",
      "File name: landmarks_mediapipe/inputs\\subject_22_37kn4gou0j_vid_0_21.mp4\n",
      "# Frames: 300\n"
     ]
    },
    {
     "name": "stderr",
     "output_type": "stream",
     "text": [
      "  2%|█▊                                                                            | 27/1177 [10:55<4:49:25, 15.10s/it]"
     ]
    },
    {
     "name": "stdout",
     "output_type": "stream",
     "text": [
      "'NoneType' object has no attribute 'ListFields'\n",
      "File name: landmarks_mediapipe/inputs\\subject_25_9yhsja3clq_vid_1_18.mp4\n",
      "# Frames: 300\n"
     ]
    },
    {
     "name": "stderr",
     "output_type": "stream",
     "text": [
      "C:\\Python39\\lib\\site-packages\\google\\protobuf\\symbol_database.py:55: UserWarning: SymbolDatabase.GetPrototype() is deprecated. Please use message_factory.GetMessageClass() instead. SymbolDatabase.GetPrototype() will be removed soon.\n",
      "  warnings.warn('SymbolDatabase.GetPrototype() is deprecated. Please '\n",
      "  2%|█▊                                                                            | 28/1177 [11:22<5:54:46, 18.53s/it]"
     ]
    },
    {
     "name": "stdout",
     "output_type": "stream",
     "text": [
      "Saving to landmarks_mediapipe/outputs/subject_25_9yhsja3clq_vid_1_18.csv ...\n",
      "File name: landmarks_mediapipe/inputs\\subject_30_7ytx2foxy2_vid_0_2.mp4\n",
      "# Frames: 150\n"
     ]
    },
    {
     "name": "stderr",
     "output_type": "stream",
     "text": [
      "  2%|█▉                                                                            | 29/1177 [11:23<4:14:49, 13.32s/it]"
     ]
    },
    {
     "name": "stdout",
     "output_type": "stream",
     "text": [
      "'NoneType' object has no attribute 'ListFields'\n",
      "File name: landmarks_mediapipe/inputs\\subject_25_9yhsja3clq_vid_2_6.mp4\n",
      "# Frames: 300\n"
     ]
    },
    {
     "name": "stderr",
     "output_type": "stream",
     "text": [
      "C:\\Python39\\lib\\site-packages\\google\\protobuf\\symbol_database.py:55: UserWarning: SymbolDatabase.GetPrototype() is deprecated. Please use message_factory.GetMessageClass() instead. SymbolDatabase.GetPrototype() will be removed soon.\n",
      "  warnings.warn('SymbolDatabase.GetPrototype() is deprecated. Please '\n",
      "  3%|█▉                                                                            | 30/1177 [11:46<5:11:49, 16.31s/it]"
     ]
    },
    {
     "name": "stdout",
     "output_type": "stream",
     "text": [
      "Saving to landmarks_mediapipe/outputs/subject_25_9yhsja3clq_vid_2_6.csv ...\n",
      "File name: landmarks_mediapipe/inputs\\subject_29_l43bqp43lo_vid_2_24.mp4\n",
      "# Frames: 300\n"
     ]
    },
    {
     "name": "stderr",
     "output_type": "stream",
     "text": [
      "C:\\Python39\\lib\\site-packages\\google\\protobuf\\symbol_database.py:55: UserWarning: SymbolDatabase.GetPrototype() is deprecated. Please use message_factory.GetMessageClass() instead. SymbolDatabase.GetPrototype() will be removed soon.\n",
      "  warnings.warn('SymbolDatabase.GetPrototype() is deprecated. Please '\n",
      "  3%|██                                                                           | 31/1177 [14:05<16:55:43, 53.18s/it]"
     ]
    },
    {
     "name": "stdout",
     "output_type": "stream",
     "text": [
      "Saving to landmarks_mediapipe/outputs/subject_29_l43bqp43lo_vid_2_24.csv ...\n",
      "File name: landmarks_mediapipe/inputs\\subject_21_3umwtqlolt_vid_1_4.mp4\n",
      "# Frames: 150\n"
     ]
    },
    {
     "name": "stderr",
     "output_type": "stream",
     "text": [
      "C:\\Python39\\lib\\site-packages\\google\\protobuf\\symbol_database.py:55: UserWarning: SymbolDatabase.GetPrototype() is deprecated. Please use message_factory.GetMessageClass() instead. SymbolDatabase.GetPrototype() will be removed soon.\n",
      "  warnings.warn('SymbolDatabase.GetPrototype() is deprecated. Please '\n",
      "  3%|██                                                                           | 32/1177 [14:15<12:43:28, 40.01s/it]"
     ]
    },
    {
     "name": "stdout",
     "output_type": "stream",
     "text": [
      "Saving to landmarks_mediapipe/outputs/subject_21_3umwtqlolt_vid_1_4.csv ...\n",
      "File name: landmarks_mediapipe/inputs\\subject_15_randomdradnfzte6_vid_1_1.mp4\n",
      "# Frames: 300\n"
     ]
    },
    {
     "name": "stderr",
     "output_type": "stream",
     "text": [
      "C:\\Python39\\lib\\site-packages\\google\\protobuf\\symbol_database.py:55: UserWarning: SymbolDatabase.GetPrototype() is deprecated. Please use message_factory.GetMessageClass() instead. SymbolDatabase.GetPrototype() will be removed soon.\n",
      "  warnings.warn('SymbolDatabase.GetPrototype() is deprecated. Please '\n",
      "  3%|██▏                                                                          | 33/1177 [14:38<11:06:41, 34.97s/it]"
     ]
    },
    {
     "name": "stdout",
     "output_type": "stream",
     "text": [
      "Saving to landmarks_mediapipe/outputs/subject_15_randomdradnfzte6_vid_1_1.csv ...\n",
      "File name: landmarks_mediapipe/inputs\\subject_22_37kn4gou0j_vid_1_17.mp4\n",
      "# Frames: 300\n"
     ]
    },
    {
     "name": "stderr",
     "output_type": "stream",
     "text": [
      "C:\\Python39\\lib\\site-packages\\google\\protobuf\\symbol_database.py:55: UserWarning: SymbolDatabase.GetPrototype() is deprecated. Please use message_factory.GetMessageClass() instead. SymbolDatabase.GetPrototype() will be removed soon.\n",
      "  warnings.warn('SymbolDatabase.GetPrototype() is deprecated. Please '\n",
      "  3%|██▎                                                                           | 34/1177 [14:55<9:24:37, 29.64s/it]"
     ]
    },
    {
     "name": "stdout",
     "output_type": "stream",
     "text": [
      "Saving to landmarks_mediapipe/outputs/subject_22_37kn4gou0j_vid_1_17.csv ...\n",
      "File name: landmarks_mediapipe/inputs\\subject_22_37kn4gou0j_vid_2_14.mp4\n",
      "# Frames: 300\n"
     ]
    },
    {
     "name": "stderr",
     "output_type": "stream",
     "text": [
      "C:\\Python39\\lib\\site-packages\\google\\protobuf\\symbol_database.py:55: UserWarning: SymbolDatabase.GetPrototype() is deprecated. Please use message_factory.GetMessageClass() instead. SymbolDatabase.GetPrototype() will be removed soon.\n",
      "  warnings.warn('SymbolDatabase.GetPrototype() is deprecated. Please '\n",
      "  3%|██▎                                                                           | 35/1177 [15:09<7:53:24, 24.87s/it]"
     ]
    },
    {
     "name": "stdout",
     "output_type": "stream",
     "text": [
      "Saving to landmarks_mediapipe/outputs/subject_22_37kn4gou0j_vid_2_14.csv ...\n",
      "File name: landmarks_mediapipe/inputs\\subject_15_randomdradnfzte6_vid_1_15.mp4\n",
      "# Frames: 300\n"
     ]
    },
    {
     "name": "stderr",
     "output_type": "stream",
     "text": [
      "C:\\Python39\\lib\\site-packages\\google\\protobuf\\symbol_database.py:55: UserWarning: SymbolDatabase.GetPrototype() is deprecated. Please use message_factory.GetMessageClass() instead. SymbolDatabase.GetPrototype() will be removed soon.\n",
      "  warnings.warn('SymbolDatabase.GetPrototype() is deprecated. Please '\n",
      "  3%|██▍                                                                           | 36/1177 [15:25<7:00:32, 22.11s/it]"
     ]
    },
    {
     "name": "stdout",
     "output_type": "stream",
     "text": [
      "Saving to landmarks_mediapipe/outputs/subject_15_randomdradnfzte6_vid_1_15.csv ...\n",
      "File name: landmarks_mediapipe/inputs\\subject_27_7ynmerobzp_vid_1_6.mp4\n",
      "# Frames: 300\n"
     ]
    },
    {
     "name": "stderr",
     "output_type": "stream",
     "text": [
      "C:\\Python39\\lib\\site-packages\\google\\protobuf\\symbol_database.py:55: UserWarning: SymbolDatabase.GetPrototype() is deprecated. Please use message_factory.GetMessageClass() instead. SymbolDatabase.GetPrototype() will be removed soon.\n",
      "  warnings.warn('SymbolDatabase.GetPrototype() is deprecated. Please '\n",
      "  3%|██▍                                                                           | 37/1177 [15:47<6:59:51, 22.10s/it]"
     ]
    },
    {
     "name": "stdout",
     "output_type": "stream",
     "text": [
      "Saving to landmarks_mediapipe/outputs/subject_27_7ynmerobzp_vid_1_6.csv ...\n",
      "File name: landmarks_mediapipe/inputs\\subject_25_9yhsja3clq_vid_1_32.mp4\n",
      "# Frames: 300\n"
     ]
    },
    {
     "name": "stderr",
     "output_type": "stream",
     "text": [
      "C:\\Python39\\lib\\site-packages\\google\\protobuf\\symbol_database.py:55: UserWarning: SymbolDatabase.GetPrototype() is deprecated. Please use message_factory.GetMessageClass() instead. SymbolDatabase.GetPrototype() will be removed soon.\n",
      "  warnings.warn('SymbolDatabase.GetPrototype() is deprecated. Please '\n",
      "  3%|██▌                                                                           | 38/1177 [16:02<6:18:44, 19.95s/it]"
     ]
    },
    {
     "name": "stdout",
     "output_type": "stream",
     "text": [
      "Saving to landmarks_mediapipe/outputs/subject_25_9yhsja3clq_vid_1_32.csv ...\n",
      "File name: landmarks_mediapipe/inputs\\subject_27_7ynmerobzp_vid_1_25.mp4\n",
      "# Frames: 300\n"
     ]
    },
    {
     "name": "stderr",
     "output_type": "stream",
     "text": [
      "C:\\Python39\\lib\\site-packages\\google\\protobuf\\symbol_database.py:55: UserWarning: SymbolDatabase.GetPrototype() is deprecated. Please use message_factory.GetMessageClass() instead. SymbolDatabase.GetPrototype() will be removed soon.\n",
      "  warnings.warn('SymbolDatabase.GetPrototype() is deprecated. Please '\n",
      "  3%|██▌                                                                           | 39/1177 [16:13<5:31:33, 17.48s/it]"
     ]
    },
    {
     "name": "stdout",
     "output_type": "stream",
     "text": [
      "Saving to landmarks_mediapipe/outputs/subject_27_7ynmerobzp_vid_1_25.csv ...\n",
      "File name: landmarks_mediapipe/inputs\\subject_24_35aqq1f9lo_vid_1_24.mp4\n",
      "# Frames: 300\n"
     ]
    },
    {
     "name": "stderr",
     "output_type": "stream",
     "text": [
      "C:\\Python39\\lib\\site-packages\\google\\protobuf\\symbol_database.py:55: UserWarning: SymbolDatabase.GetPrototype() is deprecated. Please use message_factory.GetMessageClass() instead. SymbolDatabase.GetPrototype() will be removed soon.\n",
      "  warnings.warn('SymbolDatabase.GetPrototype() is deprecated. Please '\n",
      "  3%|██▋                                                                           | 40/1177 [16:26<5:06:57, 16.20s/it]"
     ]
    },
    {
     "name": "stdout",
     "output_type": "stream",
     "text": [
      "Saving to landmarks_mediapipe/outputs/subject_24_35aqq1f9lo_vid_1_24.csv ...\n",
      "File name: landmarks_mediapipe/inputs\\subject_17_ddvyjnjfad_vid_2_21.mp4\n",
      "# Frames: 300\n"
     ]
    },
    {
     "name": "stderr",
     "output_type": "stream",
     "text": [
      "C:\\Python39\\lib\\site-packages\\google\\protobuf\\symbol_database.py:55: UserWarning: SymbolDatabase.GetPrototype() is deprecated. Please use message_factory.GetMessageClass() instead. SymbolDatabase.GetPrototype() will be removed soon.\n",
      "  warnings.warn('SymbolDatabase.GetPrototype() is deprecated. Please '\n",
      "  3%|██▋                                                                           | 41/1177 [16:38<4:41:47, 14.88s/it]"
     ]
    },
    {
     "name": "stdout",
     "output_type": "stream",
     "text": [
      "Saving to landmarks_mediapipe/outputs/subject_17_ddvyjnjfad_vid_2_21.csv ...\n",
      "File name: landmarks_mediapipe/inputs\\subject_17_ddvyjnjfad_vid_1_18.mp4\n",
      "# Frames: 300\n"
     ]
    },
    {
     "name": "stderr",
     "output_type": "stream",
     "text": [
      "C:\\Python39\\lib\\site-packages\\google\\protobuf\\symbol_database.py:55: UserWarning: SymbolDatabase.GetPrototype() is deprecated. Please use message_factory.GetMessageClass() instead. SymbolDatabase.GetPrototype() will be removed soon.\n",
      "  warnings.warn('SymbolDatabase.GetPrototype() is deprecated. Please '\n",
      "  4%|██▊                                                                           | 42/1177 [17:01<5:23:06, 17.08s/it]"
     ]
    },
    {
     "name": "stdout",
     "output_type": "stream",
     "text": [
      "Saving to landmarks_mediapipe/outputs/subject_17_ddvyjnjfad_vid_1_18.csv ...\n",
      "File name: landmarks_mediapipe/inputs\\subject_25_9yhsja3clq_vid_1_25.mp4\n",
      "# Frames: 300\n"
     ]
    },
    {
     "name": "stderr",
     "output_type": "stream",
     "text": [
      "C:\\Python39\\lib\\site-packages\\google\\protobuf\\symbol_database.py:55: UserWarning: SymbolDatabase.GetPrototype() is deprecated. Please use message_factory.GetMessageClass() instead. SymbolDatabase.GetPrototype() will be removed soon.\n",
      "  warnings.warn('SymbolDatabase.GetPrototype() is deprecated. Please '\n",
      "  4%|██▊                                                                           | 43/1177 [17:22<5:49:20, 18.48s/it]"
     ]
    },
    {
     "name": "stdout",
     "output_type": "stream",
     "text": [
      "Saving to landmarks_mediapipe/outputs/subject_25_9yhsja3clq_vid_1_25.csv ...\n",
      "File name: landmarks_mediapipe/inputs\\subject_24_35aqq1f9lo_vid_1_7.mp4\n",
      "# Frames: 300\n"
     ]
    },
    {
     "name": "stderr",
     "output_type": "stream",
     "text": [
      "C:\\Python39\\lib\\site-packages\\google\\protobuf\\symbol_database.py:55: UserWarning: SymbolDatabase.GetPrototype() is deprecated. Please use message_factory.GetMessageClass() instead. SymbolDatabase.GetPrototype() will be removed soon.\n",
      "  warnings.warn('SymbolDatabase.GetPrototype() is deprecated. Please '\n",
      "  4%|██▉                                                                           | 44/1177 [17:44<6:08:06, 19.49s/it]"
     ]
    },
    {
     "name": "stdout",
     "output_type": "stream",
     "text": [
      "Saving to landmarks_mediapipe/outputs/subject_24_35aqq1f9lo_vid_1_7.csv ...\n",
      "File name: landmarks_mediapipe/inputs\\subject_16_znxhms0ar6_vid_2_2.mp4\n",
      "# Frames: 300\n"
     ]
    },
    {
     "name": "stderr",
     "output_type": "stream",
     "text": [
      "C:\\Python39\\lib\\site-packages\\google\\protobuf\\symbol_database.py:55: UserWarning: SymbolDatabase.GetPrototype() is deprecated. Please use message_factory.GetMessageClass() instead. SymbolDatabase.GetPrototype() will be removed soon.\n",
      "  warnings.warn('SymbolDatabase.GetPrototype() is deprecated. Please '\n",
      "  4%|██▉                                                                           | 45/1177 [18:06<6:20:25, 20.16s/it]"
     ]
    },
    {
     "name": "stdout",
     "output_type": "stream",
     "text": [
      "Saving to landmarks_mediapipe/outputs/subject_16_znxhms0ar6_vid_2_2.csv ...\n",
      "File name: landmarks_mediapipe/inputs\\subject_22_37kn4gou0j_vid_2_16.mp4\n",
      "# Frames: 300\n"
     ]
    },
    {
     "name": "stderr",
     "output_type": "stream",
     "text": [
      "C:\\Python39\\lib\\site-packages\\google\\protobuf\\symbol_database.py:55: UserWarning: SymbolDatabase.GetPrototype() is deprecated. Please use message_factory.GetMessageClass() instead. SymbolDatabase.GetPrototype() will be removed soon.\n",
      "  warnings.warn('SymbolDatabase.GetPrototype() is deprecated. Please '\n",
      "  4%|███                                                                           | 46/1177 [18:28<6:31:26, 20.77s/it]"
     ]
    },
    {
     "name": "stdout",
     "output_type": "stream",
     "text": [
      "Saving to landmarks_mediapipe/outputs/subject_22_37kn4gou0j_vid_2_16.csv ...\n",
      "File name: landmarks_mediapipe/inputs\\subject_15_randomdradnfzte6_vid_0_18.mp4\n",
      "# Frames: 300\n"
     ]
    },
    {
     "name": "stderr",
     "output_type": "stream",
     "text": [
      "C:\\Python39\\lib\\site-packages\\google\\protobuf\\symbol_database.py:55: UserWarning: SymbolDatabase.GetPrototype() is deprecated. Please use message_factory.GetMessageClass() instead. SymbolDatabase.GetPrototype() will be removed soon.\n",
      "  warnings.warn('SymbolDatabase.GetPrototype() is deprecated. Please '\n",
      "  4%|███                                                                           | 47/1177 [18:51<6:41:11, 21.30s/it]"
     ]
    },
    {
     "name": "stdout",
     "output_type": "stream",
     "text": [
      "Saving to landmarks_mediapipe/outputs/subject_15_randomdradnfzte6_vid_0_18.csv ...\n",
      "File name: landmarks_mediapipe/inputs\\subject_22_37kn4gou0j_vid_2_9.mp4\n",
      "# Frames: 300\n"
     ]
    },
    {
     "name": "stderr",
     "output_type": "stream",
     "text": [
      "C:\\Python39\\lib\\site-packages\\google\\protobuf\\symbol_database.py:55: UserWarning: SymbolDatabase.GetPrototype() is deprecated. Please use message_factory.GetMessageClass() instead. SymbolDatabase.GetPrototype() will be removed soon.\n",
      "  warnings.warn('SymbolDatabase.GetPrototype() is deprecated. Please '\n",
      "  4%|███▏                                                                          | 48/1177 [19:13<6:44:38, 21.50s/it]"
     ]
    },
    {
     "name": "stdout",
     "output_type": "stream",
     "text": [
      "Saving to landmarks_mediapipe/outputs/subject_22_37kn4gou0j_vid_2_9.csv ...\n",
      "File name: landmarks_mediapipe/inputs\\subject_27_7ynmerobzp_vid_1_12.mp4\n",
      "# Frames: 300\n"
     ]
    },
    {
     "name": "stderr",
     "output_type": "stream",
     "text": [
      "C:\\Python39\\lib\\site-packages\\google\\protobuf\\symbol_database.py:55: UserWarning: SymbolDatabase.GetPrototype() is deprecated. Please use message_factory.GetMessageClass() instead. SymbolDatabase.GetPrototype() will be removed soon.\n",
      "  warnings.warn('SymbolDatabase.GetPrototype() is deprecated. Please '\n",
      "  4%|███▏                                                                          | 49/1177 [19:31<6:29:48, 20.73s/it]"
     ]
    },
    {
     "name": "stdout",
     "output_type": "stream",
     "text": [
      "Saving to landmarks_mediapipe/outputs/subject_27_7ynmerobzp_vid_1_12.csv ...\n",
      "File name: landmarks_mediapipe/inputs\\subject_16_znxhms0ar6_vid_2_10.mp4\n",
      "# Frames: 300\n"
     ]
    },
    {
     "name": "stderr",
     "output_type": "stream",
     "text": [
      "C:\\Python39\\lib\\site-packages\\google\\protobuf\\symbol_database.py:55: UserWarning: SymbolDatabase.GetPrototype() is deprecated. Please use message_factory.GetMessageClass() instead. SymbolDatabase.GetPrototype() will be removed soon.\n",
      "  warnings.warn('SymbolDatabase.GetPrototype() is deprecated. Please '\n",
      "  4%|███▎                                                                          | 50/1177 [19:52<6:26:38, 20.58s/it]"
     ]
    },
    {
     "name": "stdout",
     "output_type": "stream",
     "text": [
      "Saving to landmarks_mediapipe/outputs/subject_16_znxhms0ar6_vid_2_10.csv ...\n",
      "File name: landmarks_mediapipe/inputs\\subject_29_l43bqp43lo_vid_1_25.mp4\n",
      "# Frames: 300\n"
     ]
    },
    {
     "name": "stderr",
     "output_type": "stream",
     "text": [
      "C:\\Python39\\lib\\site-packages\\google\\protobuf\\symbol_database.py:55: UserWarning: SymbolDatabase.GetPrototype() is deprecated. Please use message_factory.GetMessageClass() instead. SymbolDatabase.GetPrototype() will be removed soon.\n",
      "  warnings.warn('SymbolDatabase.GetPrototype() is deprecated. Please '\n",
      "  4%|███▎                                                                         | 51/1177 [21:57<16:18:15, 52.13s/it]"
     ]
    },
    {
     "name": "stdout",
     "output_type": "stream",
     "text": [
      "Saving to landmarks_mediapipe/outputs/subject_29_l43bqp43lo_vid_1_25.csv ...\n",
      "File name: landmarks_mediapipe/inputs\\subject_30_7ytx2foxy2_vid_1_19.mp4\n",
      "# Frames: 150\n"
     ]
    },
    {
     "name": "stderr",
     "output_type": "stream",
     "text": [
      "C:\\Python39\\lib\\site-packages\\google\\protobuf\\symbol_database.py:55: UserWarning: SymbolDatabase.GetPrototype() is deprecated. Please use message_factory.GetMessageClass() instead. SymbolDatabase.GetPrototype() will be removed soon.\n",
      "  warnings.warn('SymbolDatabase.GetPrototype() is deprecated. Please '\n",
      "  4%|███▍                                                                         | 52/1177 [22:05<12:07:05, 38.78s/it]"
     ]
    },
    {
     "name": "stdout",
     "output_type": "stream",
     "text": [
      "'NoneType' object has no attribute 'ListFields'\n",
      "File name: landmarks_mediapipe/inputs\\subject_24_35aqq1f9lo_vid_2_0.mp4\n",
      "# Frames: 300\n"
     ]
    },
    {
     "name": "stderr",
     "output_type": "stream",
     "text": [
      "  5%|███▍                                                                         | 53/1177 [22:26<10:25:59, 33.42s/it]"
     ]
    },
    {
     "name": "stdout",
     "output_type": "stream",
     "text": [
      "Saving to landmarks_mediapipe/outputs/subject_24_35aqq1f9lo_vid_2_0.csv ...\n",
      "File name: landmarks_mediapipe/inputs\\subject_21_3umwtqlolt_vid_0_25.mp4\n",
      "# Frames: 150\n"
     ]
    },
    {
     "name": "stderr",
     "output_type": "stream",
     "text": [
      "C:\\Python39\\lib\\site-packages\\google\\protobuf\\symbol_database.py:55: UserWarning: SymbolDatabase.GetPrototype() is deprecated. Please use message_factory.GetMessageClass() instead. SymbolDatabase.GetPrototype() will be removed soon.\n",
      "  warnings.warn('SymbolDatabase.GetPrototype() is deprecated. Please '\n",
      "  5%|███▌                                                                          | 54/1177 [22:34<8:03:35, 25.84s/it]"
     ]
    },
    {
     "name": "stdout",
     "output_type": "stream",
     "text": [
      "Saving to landmarks_mediapipe/outputs/subject_21_3umwtqlolt_vid_0_25.csv ...\n",
      "File name: landmarks_mediapipe/inputs\\subject_24_35aqq1f9lo_vid_1_10.mp4\n",
      "# Frames: 300\n"
     ]
    },
    {
     "name": "stderr",
     "output_type": "stream",
     "text": [
      "C:\\Python39\\lib\\site-packages\\google\\protobuf\\symbol_database.py:55: UserWarning: SymbolDatabase.GetPrototype() is deprecated. Please use message_factory.GetMessageClass() instead. SymbolDatabase.GetPrototype() will be removed soon.\n",
      "  warnings.warn('SymbolDatabase.GetPrototype() is deprecated. Please '\n",
      "  5%|███▋                                                                          | 55/1177 [22:56<7:43:11, 24.77s/it]"
     ]
    },
    {
     "name": "stdout",
     "output_type": "stream",
     "text": [
      "Saving to landmarks_mediapipe/outputs/subject_24_35aqq1f9lo_vid_1_10.csv ...\n",
      "File name: landmarks_mediapipe/inputs\\subject_24_35aqq1f9lo_vid_1_30.mp4\n",
      "# Frames: 300\n"
     ]
    },
    {
     "name": "stderr",
     "output_type": "stream",
     "text": [
      "C:\\Python39\\lib\\site-packages\\google\\protobuf\\symbol_database.py:55: UserWarning: SymbolDatabase.GetPrototype() is deprecated. Please use message_factory.GetMessageClass() instead. SymbolDatabase.GetPrototype() will be removed soon.\n",
      "  warnings.warn('SymbolDatabase.GetPrototype() is deprecated. Please '\n",
      "  5%|███▋                                                                          | 56/1177 [23:19<7:33:13, 24.26s/it]"
     ]
    },
    {
     "name": "stdout",
     "output_type": "stream",
     "text": [
      "Saving to landmarks_mediapipe/outputs/subject_24_35aqq1f9lo_vid_1_30.csv ...\n",
      "File name: landmarks_mediapipe/inputs\\subject_25_9yhsja3clq_vid_0_29.mp4\n",
      "# Frames: 242\n"
     ]
    },
    {
     "name": "stderr",
     "output_type": "stream",
     "text": [
      "C:\\Python39\\lib\\site-packages\\google\\protobuf\\symbol_database.py:55: UserWarning: SymbolDatabase.GetPrototype() is deprecated. Please use message_factory.GetMessageClass() instead. SymbolDatabase.GetPrototype() will be removed soon.\n",
      "  warnings.warn('SymbolDatabase.GetPrototype() is deprecated. Please '\n",
      "  5%|███▊                                                                          | 57/1177 [23:37<6:54:09, 22.19s/it]"
     ]
    },
    {
     "name": "stdout",
     "output_type": "stream",
     "text": [
      "Saving to landmarks_mediapipe/outputs/subject_25_9yhsja3clq_vid_0_29.csv ...\n",
      "File name: landmarks_mediapipe/inputs\\subject_30_7ytx2foxy2_vid_0_28.mp4\n",
      "# Frames: 150\n"
     ]
    },
    {
     "name": "stderr",
     "output_type": "stream",
     "text": [
      "C:\\Python39\\lib\\site-packages\\google\\protobuf\\symbol_database.py:55: UserWarning: SymbolDatabase.GetPrototype() is deprecated. Please use message_factory.GetMessageClass() instead. SymbolDatabase.GetPrototype() will be removed soon.\n",
      "  warnings.warn('SymbolDatabase.GetPrototype() is deprecated. Please '\n",
      "  5%|███▊                                                                          | 58/1177 [23:47<5:47:08, 18.61s/it]"
     ]
    },
    {
     "name": "stdout",
     "output_type": "stream",
     "text": [
      "Saving to landmarks_mediapipe/outputs/subject_30_7ytx2foxy2_vid_0_28.csv ...\n",
      "File name: landmarks_mediapipe/inputs\\subject_17_ddvyjnjfad_vid_0_17.mp4\n",
      "# Frames: 300\n"
     ]
    },
    {
     "name": "stderr",
     "output_type": "stream",
     "text": [
      "C:\\Python39\\lib\\site-packages\\google\\protobuf\\symbol_database.py:55: UserWarning: SymbolDatabase.GetPrototype() is deprecated. Please use message_factory.GetMessageClass() instead. SymbolDatabase.GetPrototype() will be removed soon.\n",
      "  warnings.warn('SymbolDatabase.GetPrototype() is deprecated. Please '\n",
      "  5%|███▉                                                                          | 59/1177 [24:00<5:17:06, 17.02s/it]"
     ]
    },
    {
     "name": "stdout",
     "output_type": "stream",
     "text": [
      "Saving to landmarks_mediapipe/outputs/subject_17_ddvyjnjfad_vid_0_17.csv ...\n",
      "File name: landmarks_mediapipe/inputs\\subject_15_randomdradnfzte6_vid_1_40.mp4\n",
      "# Frames: 300\n"
     ]
    },
    {
     "name": "stderr",
     "output_type": "stream",
     "text": [
      "C:\\Python39\\lib\\site-packages\\google\\protobuf\\symbol_database.py:55: UserWarning: SymbolDatabase.GetPrototype() is deprecated. Please use message_factory.GetMessageClass() instead. SymbolDatabase.GetPrototype() will be removed soon.\n",
      "  warnings.warn('SymbolDatabase.GetPrototype() is deprecated. Please '\n",
      "  5%|███▉                                                                          | 60/1177 [24:15<5:04:31, 16.36s/it]"
     ]
    },
    {
     "name": "stdout",
     "output_type": "stream",
     "text": [
      "Saving to landmarks_mediapipe/outputs/subject_15_randomdradnfzte6_vid_1_40.csv ...\n",
      "File name: landmarks_mediapipe/inputs\\subject_24_35aqq1f9lo_vid_1_32.mp4\n",
      "# Frames: 218\n"
     ]
    },
    {
     "name": "stderr",
     "output_type": "stream",
     "text": [
      "C:\\Python39\\lib\\site-packages\\google\\protobuf\\symbol_database.py:55: UserWarning: SymbolDatabase.GetPrototype() is deprecated. Please use message_factory.GetMessageClass() instead. SymbolDatabase.GetPrototype() will be removed soon.\n",
      "  warnings.warn('SymbolDatabase.GetPrototype() is deprecated. Please '\n",
      "  5%|████                                                                          | 61/1177 [24:31<5:00:09, 16.14s/it]"
     ]
    },
    {
     "name": "stdout",
     "output_type": "stream",
     "text": [
      "Saving to landmarks_mediapipe/outputs/subject_24_35aqq1f9lo_vid_1_32.csv ...\n",
      "File name: landmarks_mediapipe/inputs\\subject_23_randombhxelhr8yy_vid_0_6.mp4\n",
      "# Frames: 300\n"
     ]
    },
    {
     "name": "stderr",
     "output_type": "stream",
     "text": [
      "C:\\Python39\\lib\\site-packages\\google\\protobuf\\symbol_database.py:55: UserWarning: SymbolDatabase.GetPrototype() is deprecated. Please use message_factory.GetMessageClass() instead. SymbolDatabase.GetPrototype() will be removed soon.\n",
      "  warnings.warn('SymbolDatabase.GetPrototype() is deprecated. Please '\n",
      "  5%|████                                                                         | 62/1177 [26:04<12:08:25, 39.20s/it]"
     ]
    },
    {
     "name": "stdout",
     "output_type": "stream",
     "text": [
      "Saving to landmarks_mediapipe/outputs/subject_23_randombhxelhr8yy_vid_0_6.csv ...\n",
      "File name: landmarks_mediapipe/inputs\\subject_25_9yhsja3clq_vid_2_11.mp4\n",
      "# Frames: 300\n"
     ]
    },
    {
     "name": "stderr",
     "output_type": "stream",
     "text": [
      "C:\\Python39\\lib\\site-packages\\google\\protobuf\\symbol_database.py:55: UserWarning: SymbolDatabase.GetPrototype() is deprecated. Please use message_factory.GetMessageClass() instead. SymbolDatabase.GetPrototype() will be removed soon.\n",
      "  warnings.warn('SymbolDatabase.GetPrototype() is deprecated. Please '\n",
      "  5%|████                                                                         | 63/1177 [26:26<10:33:59, 34.15s/it]"
     ]
    },
    {
     "name": "stdout",
     "output_type": "stream",
     "text": [
      "Saving to landmarks_mediapipe/outputs/subject_25_9yhsja3clq_vid_2_11.csv ...\n",
      "File name: landmarks_mediapipe/inputs\\subject_29_l43bqp43lo_vid_2_25.mp4\n",
      "# Frames: 300\n"
     ]
    },
    {
     "name": "stderr",
     "output_type": "stream",
     "text": [
      "C:\\Python39\\lib\\site-packages\\google\\protobuf\\symbol_database.py:55: UserWarning: SymbolDatabase.GetPrototype() is deprecated. Please use message_factory.GetMessageClass() instead. SymbolDatabase.GetPrototype() will be removed soon.\n",
      "  warnings.warn('SymbolDatabase.GetPrototype() is deprecated. Please '\n",
      "  5%|████▏                                                                        | 64/1177 [28:32<19:05:21, 61.74s/it]"
     ]
    },
    {
     "name": "stdout",
     "output_type": "stream",
     "text": [
      "Saving to landmarks_mediapipe/outputs/subject_29_l43bqp43lo_vid_2_25.csv ...\n",
      "File name: landmarks_mediapipe/inputs\\subject_30_7ytx2foxy2_vid_1_12.mp4\n",
      "# Frames: 150\n"
     ]
    },
    {
     "name": "stderr",
     "output_type": "stream",
     "text": [
      "C:\\Python39\\lib\\site-packages\\google\\protobuf\\symbol_database.py:55: UserWarning: SymbolDatabase.GetPrototype() is deprecated. Please use message_factory.GetMessageClass() instead. SymbolDatabase.GetPrototype() will be removed soon.\n",
      "  warnings.warn('SymbolDatabase.GetPrototype() is deprecated. Please '\n",
      "  6%|████▎                                                                        | 65/1177 [28:34<13:27:53, 43.59s/it]"
     ]
    },
    {
     "name": "stdout",
     "output_type": "stream",
     "text": [
      "'NoneType' object has no attribute 'ListFields'\n",
      "File name: landmarks_mediapipe/inputs\\subject_23_randombhxelhr8yy_vid_2_7.mp4\n",
      "# Frames: 300\n"
     ]
    },
    {
     "name": "stderr",
     "output_type": "stream",
     "text": [
      "  6%|████▎                                                                        | 66/1177 [30:22<19:25:08, 62.92s/it]"
     ]
    },
    {
     "name": "stdout",
     "output_type": "stream",
     "text": [
      "Saving to landmarks_mediapipe/outputs/subject_23_randombhxelhr8yy_vid_2_7.csv ...\n",
      "File name: landmarks_mediapipe/inputs\\subject_24_35aqq1f9lo_vid_1_4.mp4\n",
      "# Frames: 300\n"
     ]
    },
    {
     "name": "stderr",
     "output_type": "stream",
     "text": [
      "C:\\Python39\\lib\\site-packages\\google\\protobuf\\symbol_database.py:55: UserWarning: SymbolDatabase.GetPrototype() is deprecated. Please use message_factory.GetMessageClass() instead. SymbolDatabase.GetPrototype() will be removed soon.\n",
      "  warnings.warn('SymbolDatabase.GetPrototype() is deprecated. Please '\n",
      "  6%|████▍                                                                        | 67/1177 [30:34<14:41:29, 47.65s/it]"
     ]
    },
    {
     "name": "stdout",
     "output_type": "stream",
     "text": [
      "Saving to landmarks_mediapipe/outputs/subject_24_35aqq1f9lo_vid_1_4.csv ...\n",
      "File name: landmarks_mediapipe/inputs\\subject_22_37kn4gou0j_vid_1_22.mp4\n",
      "# Frames: 300\n"
     ]
    },
    {
     "name": "stderr",
     "output_type": "stream",
     "text": [
      "C:\\Python39\\lib\\site-packages\\google\\protobuf\\symbol_database.py:55: UserWarning: SymbolDatabase.GetPrototype() is deprecated. Please use message_factory.GetMessageClass() instead. SymbolDatabase.GetPrototype() will be removed soon.\n",
      "  warnings.warn('SymbolDatabase.GetPrototype() is deprecated. Please '\n",
      "  6%|████▍                                                                        | 68/1177 [30:45<11:17:55, 36.68s/it]"
     ]
    },
    {
     "name": "stdout",
     "output_type": "stream",
     "text": [
      "Saving to landmarks_mediapipe/outputs/subject_22_37kn4gou0j_vid_1_22.csv ...\n",
      "File name: landmarks_mediapipe/inputs\\subject_15_randomdradnfzte6_vid_2_20.mp4\n",
      "# Frames: 300\n"
     ]
    },
    {
     "name": "stderr",
     "output_type": "stream",
     "text": [
      "C:\\Python39\\lib\\site-packages\\google\\protobuf\\symbol_database.py:55: UserWarning: SymbolDatabase.GetPrototype() is deprecated. Please use message_factory.GetMessageClass() instead. SymbolDatabase.GetPrototype() will be removed soon.\n",
      "  warnings.warn('SymbolDatabase.GetPrototype() is deprecated. Please '\n",
      "  6%|████▌                                                                         | 69/1177 [30:54<8:46:30, 28.51s/it]"
     ]
    },
    {
     "name": "stdout",
     "output_type": "stream",
     "text": [
      "Saving to landmarks_mediapipe/outputs/subject_15_randomdradnfzte6_vid_2_20.csv ...\n",
      "File name: landmarks_mediapipe/inputs\\subject_19_ah2mcee837_vid_2_18.mp4\n",
      "# Frames: 300\n"
     ]
    },
    {
     "name": "stderr",
     "output_type": "stream",
     "text": [
      "C:\\Python39\\lib\\site-packages\\google\\protobuf\\symbol_database.py:55: UserWarning: SymbolDatabase.GetPrototype() is deprecated. Please use message_factory.GetMessageClass() instead. SymbolDatabase.GetPrototype() will be removed soon.\n",
      "  warnings.warn('SymbolDatabase.GetPrototype() is deprecated. Please '\n",
      "  6%|████▋                                                                         | 70/1177 [31:04<7:05:13, 23.05s/it]"
     ]
    },
    {
     "name": "stdout",
     "output_type": "stream",
     "text": [
      "Saving to landmarks_mediapipe/outputs/subject_19_ah2mcee837_vid_2_18.csv ...\n",
      "File name: landmarks_mediapipe/inputs\\subject_15_randomdradnfzte6_vid_1_0.mp4\n",
      "# Frames: 300\n"
     ]
    },
    {
     "name": "stderr",
     "output_type": "stream",
     "text": [
      "C:\\Python39\\lib\\site-packages\\google\\protobuf\\symbol_database.py:55: UserWarning: SymbolDatabase.GetPrototype() is deprecated. Please use message_factory.GetMessageClass() instead. SymbolDatabase.GetPrototype() will be removed soon.\n",
      "  warnings.warn('SymbolDatabase.GetPrototype() is deprecated. Please '\n",
      "  6%|████▋                                                                         | 71/1177 [31:15<5:57:31, 19.40s/it]"
     ]
    },
    {
     "name": "stdout",
     "output_type": "stream",
     "text": [
      "Saving to landmarks_mediapipe/outputs/subject_15_randomdradnfzte6_vid_1_0.csv ...\n",
      "File name: landmarks_mediapipe/inputs\\subject_22_37kn4gou0j_vid_2_2.mp4\n",
      "# Frames: 300\n"
     ]
    },
    {
     "name": "stderr",
     "output_type": "stream",
     "text": [
      "C:\\Python39\\lib\\site-packages\\google\\protobuf\\symbol_database.py:55: UserWarning: SymbolDatabase.GetPrototype() is deprecated. Please use message_factory.GetMessageClass() instead. SymbolDatabase.GetPrototype() will be removed soon.\n",
      "  warnings.warn('SymbolDatabase.GetPrototype() is deprecated. Please '\n",
      "  6%|████▊                                                                         | 72/1177 [31:30<5:29:57, 17.92s/it]"
     ]
    },
    {
     "name": "stdout",
     "output_type": "stream",
     "text": [
      "Saving to landmarks_mediapipe/outputs/subject_22_37kn4gou0j_vid_2_2.csv ...\n",
      "File name: landmarks_mediapipe/inputs\\subject_15_randomdradnfzte6_vid_2_12.mp4\n",
      "# Frames: 300\n"
     ]
    },
    {
     "name": "stderr",
     "output_type": "stream",
     "text": [
      "C:\\Python39\\lib\\site-packages\\google\\protobuf\\symbol_database.py:55: UserWarning: SymbolDatabase.GetPrototype() is deprecated. Please use message_factory.GetMessageClass() instead. SymbolDatabase.GetPrototype() will be removed soon.\n",
      "  warnings.warn('SymbolDatabase.GetPrototype() is deprecated. Please '\n",
      "  6%|████▊                                                                         | 73/1177 [31:44<5:10:30, 16.88s/it]"
     ]
    },
    {
     "name": "stdout",
     "output_type": "stream",
     "text": [
      "Saving to landmarks_mediapipe/outputs/subject_15_randomdradnfzte6_vid_2_12.csv ...\n",
      "File name: landmarks_mediapipe/inputs\\subject_17_ddvyjnjfad_vid_2_10.mp4\n",
      "# Frames: 300\n"
     ]
    },
    {
     "name": "stderr",
     "output_type": "stream",
     "text": [
      "C:\\Python39\\lib\\site-packages\\google\\protobuf\\symbol_database.py:55: UserWarning: SymbolDatabase.GetPrototype() is deprecated. Please use message_factory.GetMessageClass() instead. SymbolDatabase.GetPrototype() will be removed soon.\n",
      "  warnings.warn('SymbolDatabase.GetPrototype() is deprecated. Please '\n",
      "  6%|████▉                                                                         | 74/1177 [31:57<4:46:34, 15.59s/it]"
     ]
    },
    {
     "name": "stdout",
     "output_type": "stream",
     "text": [
      "Saving to landmarks_mediapipe/outputs/subject_17_ddvyjnjfad_vid_2_10.csv ...\n",
      "File name: landmarks_mediapipe/inputs\\subject_24_35aqq1f9lo_vid_1_27.mp4\n",
      "# Frames: 300\n"
     ]
    },
    {
     "name": "stderr",
     "output_type": "stream",
     "text": [
      "C:\\Python39\\lib\\site-packages\\google\\protobuf\\symbol_database.py:55: UserWarning: SymbolDatabase.GetPrototype() is deprecated. Please use message_factory.GetMessageClass() instead. SymbolDatabase.GetPrototype() will be removed soon.\n",
      "  warnings.warn('SymbolDatabase.GetPrototype() is deprecated. Please '\n",
      "  6%|████▉                                                                         | 75/1177 [32:16<5:07:31, 16.74s/it]"
     ]
    },
    {
     "name": "stdout",
     "output_type": "stream",
     "text": [
      "Saving to landmarks_mediapipe/outputs/subject_24_35aqq1f9lo_vid_1_27.csv ...\n",
      "File name: landmarks_mediapipe/inputs\\subject_15_randomdradnfzte6_vid_2_29.mp4\n",
      "# Frames: 300\n"
     ]
    },
    {
     "name": "stderr",
     "output_type": "stream",
     "text": [
      "C:\\Python39\\lib\\site-packages\\google\\protobuf\\symbol_database.py:55: UserWarning: SymbolDatabase.GetPrototype() is deprecated. Please use message_factory.GetMessageClass() instead. SymbolDatabase.GetPrototype() will be removed soon.\n",
      "  warnings.warn('SymbolDatabase.GetPrototype() is deprecated. Please '\n",
      "  6%|█████                                                                         | 76/1177 [32:32<4:59:55, 16.35s/it]"
     ]
    },
    {
     "name": "stdout",
     "output_type": "stream",
     "text": [
      "Saving to landmarks_mediapipe/outputs/subject_15_randomdradnfzte6_vid_2_29.csv ...\n",
      "File name: landmarks_mediapipe/inputs\\subject_22_37kn4gou0j_vid_2_30.mp4\n",
      "# Frames: 300\n"
     ]
    },
    {
     "name": "stderr",
     "output_type": "stream",
     "text": [
      "C:\\Python39\\lib\\site-packages\\google\\protobuf\\symbol_database.py:55: UserWarning: SymbolDatabase.GetPrototype() is deprecated. Please use message_factory.GetMessageClass() instead. SymbolDatabase.GetPrototype() will be removed soon.\n",
      "  warnings.warn('SymbolDatabase.GetPrototype() is deprecated. Please '\n",
      "  7%|█████                                                                         | 77/1177 [32:49<5:05:22, 16.66s/it]"
     ]
    },
    {
     "name": "stdout",
     "output_type": "stream",
     "text": [
      "Saving to landmarks_mediapipe/outputs/subject_22_37kn4gou0j_vid_2_30.csv ...\n",
      "File name: landmarks_mediapipe/inputs\\subject_23_randombhxelhr8yy_vid_1_26.mp4\n",
      "# Frames: 300\n"
     ]
    },
    {
     "name": "stderr",
     "output_type": "stream",
     "text": [
      "C:\\Python39\\lib\\site-packages\\google\\protobuf\\symbol_database.py:55: UserWarning: SymbolDatabase.GetPrototype() is deprecated. Please use message_factory.GetMessageClass() instead. SymbolDatabase.GetPrototype() will be removed soon.\n",
      "  warnings.warn('SymbolDatabase.GetPrototype() is deprecated. Please '\n",
      "  7%|█████                                                                        | 78/1177 [34:17<11:34:07, 37.90s/it]"
     ]
    },
    {
     "name": "stdout",
     "output_type": "stream",
     "text": [
      "Saving to landmarks_mediapipe/outputs/subject_23_randombhxelhr8yy_vid_1_26.csv ...\n",
      "File name: landmarks_mediapipe/inputs\\subject_23_randombhxelhr8yy_vid_1_6.mp4\n",
      "# Frames: 300\n"
     ]
    },
    {
     "name": "stderr",
     "output_type": "stream",
     "text": [
      "C:\\Python39\\lib\\site-packages\\google\\protobuf\\symbol_database.py:55: UserWarning: SymbolDatabase.GetPrototype() is deprecated. Please use message_factory.GetMessageClass() instead. SymbolDatabase.GetPrototype() will be removed soon.\n",
      "  warnings.warn('SymbolDatabase.GetPrototype() is deprecated. Please '\n",
      "  7%|█████▏                                                                       | 79/1177 [36:06<18:08:20, 59.47s/it]"
     ]
    },
    {
     "name": "stdout",
     "output_type": "stream",
     "text": [
      "Saving to landmarks_mediapipe/outputs/subject_23_randombhxelhr8yy_vid_1_6.csv ...\n",
      "File name: landmarks_mediapipe/inputs\\subject_27_7ynmerobzp_vid_0_20.mp4\n",
      "# Frames: 300\n"
     ]
    },
    {
     "name": "stderr",
     "output_type": "stream",
     "text": [
      "C:\\Python39\\lib\\site-packages\\google\\protobuf\\symbol_database.py:55: UserWarning: SymbolDatabase.GetPrototype() is deprecated. Please use message_factory.GetMessageClass() instead. SymbolDatabase.GetPrototype() will be removed soon.\n",
      "  warnings.warn('SymbolDatabase.GetPrototype() is deprecated. Please '\n",
      "  7%|█████▏                                                                       | 80/1177 [36:25<14:20:44, 47.08s/it]"
     ]
    },
    {
     "name": "stdout",
     "output_type": "stream",
     "text": [
      "Saving to landmarks_mediapipe/outputs/subject_27_7ynmerobzp_vid_0_20.csv ...\n",
      "File name: landmarks_mediapipe/inputs\\subject_30_7ytx2foxy2_vid_1_3.mp4\n",
      "# Frames: 150\n"
     ]
    },
    {
     "name": "stderr",
     "output_type": "stream",
     "text": [
      "  7%|█████▎                                                                       | 81/1177 [36:26<10:07:49, 33.27s/it]"
     ]
    },
    {
     "name": "stdout",
     "output_type": "stream",
     "text": [
      "'NoneType' object has no attribute 'ListFields'\n",
      "File name: landmarks_mediapipe/inputs\\subject_17_ddvyjnjfad_vid_0_7.mp4\n",
      "# Frames: 300\n"
     ]
    },
    {
     "name": "stderr",
     "output_type": "stream",
     "text": [
      "C:\\Python39\\lib\\site-packages\\google\\protobuf\\symbol_database.py:55: UserWarning: SymbolDatabase.GetPrototype() is deprecated. Please use message_factory.GetMessageClass() instead. SymbolDatabase.GetPrototype() will be removed soon.\n",
      "  warnings.warn('SymbolDatabase.GetPrototype() is deprecated. Please '\n",
      "  7%|█████▍                                                                        | 82/1177 [36:46<8:54:21, 29.28s/it]"
     ]
    },
    {
     "name": "stdout",
     "output_type": "stream",
     "text": [
      "Saving to landmarks_mediapipe/outputs/subject_17_ddvyjnjfad_vid_0_7.csv ...\n",
      "File name: landmarks_mediapipe/inputs\\subject_23_randombhxelhr8yy_vid_2_9.mp4\n",
      "# Frames: 300\n"
     ]
    },
    {
     "name": "stderr",
     "output_type": "stream",
     "text": [
      "C:\\Python39\\lib\\site-packages\\google\\protobuf\\symbol_database.py:55: UserWarning: SymbolDatabase.GetPrototype() is deprecated. Please use message_factory.GetMessageClass() instead. SymbolDatabase.GetPrototype() will be removed soon.\n",
      "  warnings.warn('SymbolDatabase.GetPrototype() is deprecated. Please '\n",
      "  7%|█████▍                                                                       | 83/1177 [38:23<15:08:29, 49.83s/it]"
     ]
    },
    {
     "name": "stdout",
     "output_type": "stream",
     "text": [
      "Saving to landmarks_mediapipe/outputs/subject_23_randombhxelhr8yy_vid_2_9.csv ...\n",
      "File name: landmarks_mediapipe/inputs\\subject_22_37kn4gou0j_vid_1_26.mp4\n",
      "# Frames: 300\n"
     ]
    },
    {
     "name": "stderr",
     "output_type": "stream",
     "text": [
      "C:\\Python39\\lib\\site-packages\\google\\protobuf\\symbol_database.py:55: UserWarning: SymbolDatabase.GetPrototype() is deprecated. Please use message_factory.GetMessageClass() instead. SymbolDatabase.GetPrototype() will be removed soon.\n",
      "  warnings.warn('SymbolDatabase.GetPrototype() is deprecated. Please '\n"
     ]
    }
   ],
   "source": [
    "def get_frames(filename):\n",
    "    video=cv2.VideoCapture(filename)\n",
    "    while video.isOpened():\n",
    "        rete,frame = video.read()\n",
    "        if rete:\n",
    "            yield frame\n",
    "        else:\n",
    "            break\n",
    "    video.release()\n",
    "    \n",
    "def sample_frames(frames, max_frames=300):\n",
    "    if len(frames) <= max_frames:\n",
    "        return frames\n",
    "    hops = len(frames)//max_frames\n",
    "    sampled = []\n",
    "    \n",
    "    for i in range(0, len(frames), hops):\n",
    "        sampled.append(frames[i])\n",
    "        if len(sampled) == max_frames:\n",
    "            return sampled\n",
    "        \n",
    "def parse_landmarks(results, fno):\n",
    "    landmarks = {}\n",
    "    landmarks['frame'] = fno\n",
    "    for idx, l in enumerate(results.pose_landmarks.ListFields()[0][1]):\n",
    "        landmarks[f'x{idx}']= l.x \n",
    "        landmarks[f'y{idx}']= l.y\n",
    "        landmarks[f'z{idx}']= l.z\n",
    "        landmarks[f'visibility{idx}']= l.visibility\n",
    "    return landmarks\n",
    "\n",
    "def extract_landmarks(vid_path):\n",
    "    \n",
    "    # Extracts raw landmarks from video, using mediapipe\n",
    "    frames = list(get_frames(vid_path))\n",
    "    frames = sample_frames(frames)\n",
    "    print (f\"# Frames: {len(frames)}\")\n",
    "    vid_landmarks = []\n",
    "    with mp_pose.Pose(\n",
    "        min_detection_confidence=0.5,\n",
    "        min_tracking_confidence=0.5) as pose:\n",
    "\n",
    "        for idx, image in enumerate(frames):\n",
    "            image = cv2.cvtColor(image, cv2.COLOR_BGR2RGB)\n",
    "            results = pose.process(image)\n",
    "            vid_landmarks.append(parse_landmarks(results, idx))\n",
    "    return pd.DataFrame().from_records(vid_landmarks)\n",
    "\n",
    "def get_files_list():\n",
    "    files = glob.glob(video_path)\n",
    "    with open(processed_file, 'r') as f:\n",
    "        processed = [i.strip('\\n') for i in f.readlines()]\n",
    "    return list(set(files) - set(processed))\n",
    "\n",
    "def extract_and_save(root, vid_path):\n",
    "    df = extract_landmarks(vid_path)\n",
    "    # Fix the path handling here\n",
    "    fname = os.path.basename(vid_path).replace('.mp4', '.csv')  # Get just the filename\n",
    "    path = os.path.join(root, fname)  # Join with output directory\n",
    "    print(f\"Saving to {path} ...\")\n",
    "    df.to_csv(path, index=False)\n",
    "    \n",
    "def main():\n",
    "    files = get_files_list()\n",
    "    for vid_path in tqdm(files):\n",
    "        print (f\"File name: {vid_path}\")\n",
    "        try:\n",
    "            extract_and_save(ROOT, vid_path)\n",
    "            with open(processed_file, 'a') as pr:\n",
    "                pr.write(vid_path)\n",
    "                pr.write('\\n')\n",
    "                \n",
    "        except Exception as e:\n",
    "            print (e)\n",
    "            with open(error_file, 'a') as err:\n",
    "                err.write(vid_path)\n",
    "                err.write('\\n')\n",
    "\n",
    "if __name__ == '__main__':\n",
    "    main()"
   ]
  },
  {
   "cell_type": "code",
   "execution_count": null,
   "id": "4b566624-84bc-422c-b667-11d6e1bb762f",
   "metadata": {},
   "outputs": [],
   "source": []
  }
 ],
 "metadata": {
  "kernelspec": {
   "display_name": "Python 3 (ipykernel)",
   "language": "python",
   "name": "python3"
  },
  "language_info": {
   "codemirror_mode": {
    "name": "ipython",
    "version": 3
   },
   "file_extension": ".py",
   "mimetype": "text/x-python",
   "name": "python",
   "nbconvert_exporter": "python",
   "pygments_lexer": "ipython3",
   "version": "3.9.11"
  }
 },
 "nbformat": 4,
 "nbformat_minor": 5
}
