{
 "cells": [
  {
   "cell_type": "markdown",
   "id": "340b9ab1-9dab-4a31-bf1f-fa8135011107",
   "metadata": {},
   "source": [
    "### Data Combine\n",
    "\n",
    "This code supports combine 2 preprocessed into 1, eg:\n",
    "- Openface + Marlin\n",
    "- Openface + Mediapipe\n",
    "- Mediapipe + Marlin"
   ]
  },
  {
   "cell_type": "markdown",
   "id": "f12ae943-6e52-447c-aee5-6a1d0283a24f",
   "metadata": {},
   "source": [
    "### Input and Output\n",
    "\n",
    "Input files:\n",
    "- 2 `npy` files prepare to combine\n",
    "\n",
    "Output files:\n",
    "- 1 `npy` combined file"
   ]
  },
  {
   "cell_type": "code",
   "execution_count": 5,
   "id": "b65b333f-febf-404b-b853-3a78325a86ba",
   "metadata": {},
   "outputs": [],
   "source": [
    "import numpy as np\n",
    "\n",
    "input_data_path_1 = 'EmotiW2023 Data Small/Xy_engage_gaze+hp+au.npy'\n",
    "input_data_path_2 = 'EmotiW2023 Data Small/Xy_marlin_features_large.npy'\n",
    "\n",
    "output_data_path = 'EmotiW2023 Data Small/Xy_engage_gaze+hp+au_marlin.npy'"
   ]
  },
  {
   "cell_type": "code",
   "execution_count": 6,
   "id": "61ca151a-c237-443d-9e48-5a4c4e4b98f6",
   "metadata": {},
   "outputs": [
    {
     "name": "stdout",
     "output_type": "stream",
     "text": [
      "8034 8040\n"
     ]
    }
   ],
   "source": [
    "Xy_1 = np.load(input_data_path_1, allow_pickle=True)\n",
    "Xy_2 = np.load(input_data_path_2, allow_pickle=True)\n",
    "\n",
    "print(len(Xy_1),len(Xy_2))"
   ]
  },
  {
   "cell_type": "code",
   "execution_count": 7,
   "id": "c10f614b-dec0-489f-8004-ebd347182a3f",
   "metadata": {},
   "outputs": [
    {
     "name": "stdout",
     "output_type": "stream",
     "text": [
      "Key subject_114_randombn205mtt5s_vid_0_0.mp4 not found in x1_fm\n",
      "Key subject_28_xf4ogs7wj4_vid_0_0.mp4 not found in x1_fm\n",
      "Key subject_28_xf4ogs7wj4_vid_0_1.mp4 not found in x1_fm\n",
      "Key subject_28_xf4ogs7wj4_vid_0_10.mp4 not found in x1_fm\n",
      "Key subject_61_9lo6k238pu_vid_0_0.mp4 not found in x1_fm\n",
      "Key subject_61_9lo6k238pu_vid_0_1.mp4 not found in x1_fm\n"
     ]
    }
   ],
   "source": [
    "x1_fm = {}\n",
    "for xy in Xy_1:\n",
    "    x1_fm[xy[0]] = xy[1]\n",
    "\n",
    "data = []\n",
    "for idx, xy in enumerate(Xy_2):\n",
    "    if xy[0] in x1_fm:\n",
    "        x1 = x1_fm[xy[0]]\n",
    "    else:\n",
    "        print(f\"Key {xy[0]} not found in x1_fm\")\n",
    "        \n",
    "    if type(x1)!=tuple:\n",
    "        data.append((xy[0], xy[1], x1, xy[2]))"
   ]
  },
  {
   "cell_type": "code",
   "execution_count": 8,
   "id": "eef0dfb5-0ccf-4816-b46e-05f7c5e1b147",
   "metadata": {},
   "outputs": [],
   "source": [
    "np.save(output_data_path, np.array(data, dtype='object'))"
   ]
  },
  {
   "cell_type": "code",
   "execution_count": 9,
   "id": "c45c2d36-b408-4207-ad88-94f5c3fefbb6",
   "metadata": {},
   "outputs": [
    {
     "data": {
      "text/plain": [
       "7670"
      ]
     },
     "execution_count": 9,
     "metadata": {},
     "output_type": "execute_result"
    }
   ],
   "source": [
    "data = np.array(data, dtype='object')\n",
    "len(data)"
   ]
  },
  {
   "cell_type": "code",
   "execution_count": null,
   "id": "703ebe3c-1f35-42dd-8697-4bcd764a9311",
   "metadata": {},
   "outputs": [],
   "source": []
  }
 ],
 "metadata": {
  "kernelspec": {
   "display_name": "Python 3 (ipykernel)",
   "language": "python",
   "name": "python3"
  },
  "language_info": {
   "codemirror_mode": {
    "name": "ipython",
    "version": 3
   },
   "file_extension": ".py",
   "mimetype": "text/x-python",
   "name": "python",
   "nbconvert_exporter": "python",
   "pygments_lexer": "ipython3",
   "version": "3.9.11"
  }
 },
 "nbformat": 4,
 "nbformat_minor": 5
}
