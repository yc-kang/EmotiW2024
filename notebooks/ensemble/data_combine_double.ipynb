{
 "cells": [
  {
   "cell_type": "markdown",
   "id": "340b9ab1-9dab-4a31-bf1f-fa8135011107",
   "metadata": {},
   "source": [
    "### Data Combine\n",
    "\n",
    "This code supports combine 2 preprocessed into 1, eg:\n",
    "- Openface + Marlin\n",
    "- Openface + Mediapipe\n",
    "- Mediapipe + Marlin"
   ]
  },
  {
   "cell_type": "markdown",
   "id": "f12ae943-6e52-447c-aee5-6a1d0283a24f",
   "metadata": {},
   "source": [
    "### Input and Output\n",
    "\n",
    "Input files:\n",
    "- 2x `npy` files prepare to combine\n",
    "\n",
    "Output files:\n",
    "- 1x `npy` combined file"
   ]
  },
  {
   "cell_type": "code",
   "execution_count": 12,
   "id": "b65b333f-febf-404b-b853-3a78325a86ba",
   "metadata": {},
   "outputs": [],
   "source": [
    "import numpy as np\n",
    "\n",
    "input_data_path_1 = 'EmotiW2023 Data Small/Xy_marlin_features_large.npy'\n",
    "input_data_path_2 = 'EmotiW2023 Data Small/Xy_engage_bodypose.npy'\n",
    "\n",
    "output_data_path = 'EmotiW2023 Data Small/Xy_engage_bodypose_marlin.npy'"
   ]
  },
  {
   "cell_type": "code",
   "execution_count": 16,
   "id": "61ca151a-c237-443d-9e48-5a4c4e4b98f6",
   "metadata": {},
   "outputs": [
    {
     "name": "stdout",
     "output_type": "stream",
     "text": [
      "8040 7773\n",
      "['subject_0_2msdhgqawh_vid_0_0.mp4'\n",
      " array([[-0.13852222, -0.03409084,  0.30835477, ..., -0.27071905,\n",
      "         -0.05114482, -0.0084425 ],\n",
      "        [-0.16257848, -0.05500085,  0.38991776, ..., -0.23623376,\n",
      "         -0.07379916, -0.00473824],\n",
      "        [-0.171606  , -0.07018153,  0.36333498, ..., -0.22672045,\n",
      "         -0.08576258,  0.01905022],\n",
      "        ...,\n",
      "        [-0.10186562, -0.04683093,  0.3170146 , ..., -0.2960978 ,\n",
      "         -0.05658226, -0.0413123 ],\n",
      "        [-0.11917496,  0.00947589,  0.18174954, ..., -0.27356213,\n",
      "          0.09654579, -0.00636648],\n",
      "        [-0.11901491,  0.01756562,  0.17249958, ..., -0.19407684,\n",
      "         -0.05737707, -0.07285963]], dtype=float32)\n",
      " 'Engaged'] ['subject_68_0ng3yqwrg6_vid_0_0.mp4'\n",
      " array([[1.12808827e-04, 1.35073279e-04, 2.33070443e-02, ...,\n",
      "         0.00000000e+00, 0.00000000e+00, 0.00000000e+00],\n",
      "        [8.37831144e-07, 5.83291142e-05, 3.40727347e-03, ...,\n",
      "         0.00000000e+00, 0.00000000e+00, 0.00000000e+00],\n",
      "        [9.97596998e-06, 4.23564044e-05, 5.18335506e-03, ...,\n",
      "         0.00000000e+00, 0.00000000e+00, 0.00000000e+00],\n",
      "        ...,\n",
      "        [1.02391571e-07, 1.85546987e-06, 5.48816644e-03, ...,\n",
      "         0.00000000e+00, 0.00000000e+00, 0.00000000e+00],\n",
      "        [1.06349875e-07, 1.94433832e-07, 1.85562008e-03, ...,\n",
      "         0.00000000e+00, 0.00000000e+00, 0.00000000e+00],\n",
      "        [4.73229441e-07, 1.29487322e-06, 6.26760635e-04, ...,\n",
      "         0.00000000e+00, 0.00000000e+00, 0.00000000e+00]])    'Engaged']\n"
     ]
    }
   ],
   "source": [
    "Xy_1 = np.load(input_data_path_1, allow_pickle=True)\n",
    "Xy_2 = np.load(input_data_path_2, allow_pickle=True)\n",
    "\n",
    "print(len(Xy_1),len(Xy_2))\n",
    "print(Xy_1[0],Xy_2[0])"
   ]
  },
  {
   "cell_type": "code",
   "execution_count": 8,
   "id": "c10f614b-dec0-489f-8004-ebd347182a3f",
   "metadata": {},
   "outputs": [],
   "source": [
    "x1_fm = {}\n",
    "for xy in Xy_1:\n",
    "    x1_fm[xy[0]] = xy[1]\n",
    "\n",
    "data = []\n",
    "for idx, xy in enumerate(Xy_2):\n",
    "    if xy[0] in x1_fm:\n",
    "        x1 = x1_fm[xy[0]]\n",
    "    else:\n",
    "        print(f\"Key {xy[0]} not found in x1_fm\")\n",
    "        \n",
    "    if type(x1)!=tuple:\n",
    "        data.append((xy[0], xy[1], x1, xy[2]))"
   ]
  },
  {
   "cell_type": "code",
   "execution_count": 9,
   "id": "eef0dfb5-0ccf-4816-b46e-05f7c5e1b147",
   "metadata": {},
   "outputs": [],
   "source": [
    "np.save(output_data_path, np.array(data, dtype='object'))"
   ]
  },
  {
   "cell_type": "code",
   "execution_count": 10,
   "id": "c45c2d36-b408-4207-ad88-94f5c3fefbb6",
   "metadata": {},
   "outputs": [
    {
     "data": {
      "text/plain": [
       "7773"
      ]
     },
     "execution_count": 10,
     "metadata": {},
     "output_type": "execute_result"
    }
   ],
   "source": [
    "data = np.array(data, dtype='object')\n",
    "len(data)"
   ]
  },
  {
   "cell_type": "code",
   "execution_count": 11,
   "id": "703ebe3c-1f35-42dd-8697-4bcd764a9311",
   "metadata": {},
   "outputs": [
    {
     "data": {
      "text/plain": [
       "array(['subject_68_0ng3yqwrg6_vid_0_0.mp4',\n",
       "       array([[1.12808827e-04, 1.35073279e-04, 2.33070443e-02, ...,\n",
       "               0.00000000e+00, 0.00000000e+00, 0.00000000e+00],\n",
       "              [8.37831144e-07, 5.83291142e-05, 3.40727347e-03, ...,\n",
       "               0.00000000e+00, 0.00000000e+00, 0.00000000e+00],\n",
       "              [9.97596998e-06, 4.23564044e-05, 5.18335506e-03, ...,\n",
       "               0.00000000e+00, 0.00000000e+00, 0.00000000e+00],\n",
       "              ...,\n",
       "              [1.02391571e-07, 1.85546987e-06, 5.48816644e-03, ...,\n",
       "               0.00000000e+00, 0.00000000e+00, 0.00000000e+00],\n",
       "              [1.06349875e-07, 1.94433832e-07, 1.85562008e-03, ...,\n",
       "               0.00000000e+00, 0.00000000e+00, 0.00000000e+00],\n",
       "              [4.73229441e-07, 1.29487322e-06, 6.26760635e-04, ...,\n",
       "               0.00000000e+00, 0.00000000e+00, 0.00000000e+00]])   ,\n",
       "       array([[ 0.03229721, -0.10042803,  0.4504739 , ..., -0.06554577,\n",
       "                0.16712351,  0.02580368],\n",
       "              [-0.02973243, -0.13449304,  0.25626186, ..., -0.08790321,\n",
       "                0.14535044,  0.03749271],\n",
       "              [-0.03515643, -0.11570809,  0.40554252, ..., -0.09405959,\n",
       "                0.18272331,  0.06743079],\n",
       "              ...,\n",
       "              [-0.06301409, -0.12142416,  0.31409582, ..., -0.114347  ,\n",
       "                0.10148045,  0.0618275 ],\n",
       "              [-0.06664768, -0.10718389,  0.31178597, ..., -0.12922673,\n",
       "                0.10062584,  0.05877962],\n",
       "              [-0.04500833, -0.1247662 ,  0.51732564, ..., -0.11216324,\n",
       "                0.14774227,  0.04667936]], dtype=float32)              ,\n",
       "       'Engaged'], dtype=object)"
      ]
     },
     "execution_count": 11,
     "metadata": {},
     "output_type": "execute_result"
    }
   ],
   "source": [
    "Xy_test = np.load(output_data_path, allow_pickle=True)\n",
    "Xy_test[0]"
   ]
  },
  {
   "cell_type": "code",
   "execution_count": null,
   "id": "f0bbc68e-6f24-47f7-9d10-a11eb455a4d3",
   "metadata": {},
   "outputs": [],
   "source": []
  }
 ],
 "metadata": {
  "kernelspec": {
   "display_name": "Python 3 (ipykernel)",
   "language": "python",
   "name": "python3"
  },
  "language_info": {
   "codemirror_mode": {
    "name": "ipython",
    "version": 3
   },
   "file_extension": ".py",
   "mimetype": "text/x-python",
   "name": "python",
   "nbconvert_exporter": "python",
   "pygments_lexer": "ipython3",
   "version": "3.9.11"
  }
 },
 "nbformat": 4,
 "nbformat_minor": 5
}
